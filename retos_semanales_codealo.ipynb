{
 "cells": [
  {
   "attachments": {},
   "cell_type": "markdown",
   "metadata": {},
   "source": [
    "# Reto Semanal #1\n",
    "\n",
    "En Codealo tenemos un Array que guarda todas las veces que pasan nuestras pruebas. Esto esta asociado a nuestro sistema de pruebas automatizadas. Cuando una prueba falla intenta correrla de nuevo.\n",
    "\n",
    "Los resultados de las pruebas son guardadas en este Array. Queremos saber de la manera más rápida en que indice es que empezaron a fallar las pruebas.\n",
    "\n",
    "La data es representada de la siguiente manera:\n",
    "[ True, True, True, True, True, False, False, False, False, False, False, False ]\n",
    "\n",
    "Donde true indica que todas las pruebas pasaron y false que no es así.\n",
    "\n",
    "Para este solo tienes que devolver el index donde ocurre el PRIMER false.\n",
    "\n",
    "No olvides de elegir el lenguaje de programación en el que quieres resolver el reto."
   ]
  },
  {
   "cell_type": "code",
   "execution_count": null,
   "metadata": {},
   "outputs": [],
   "source": [
    "# No Borrar\n",
    "testResults = [ True, True, True, True, True, False, False, False, False, False, False, False ]\n",
    "\n",
    "resultado = None\n",
    "\n",
    "## Solucion Esperada: Posicion del primer False es 5\n",
    "\n",
    "# Codigo\n",
    "\n",
    "for indice in range(0, len(testResults)):\n",
    "    if testResults[indice] == False:\n",
    "        resultado = indice\n",
    "        break\n",
    "\n",
    "print(resultado)"
   ]
  }
 ],
 "metadata": {
  "kernelspec": {
   "display_name": "Python 3",
   "language": "python",
   "name": "python3"
  },
  "language_info": {
   "name": "python",
   "version": "3.11.1 (tags/v3.11.1:a7a450f, Dec  6 2022, 19:58:39) [MSC v.1934 64 bit (AMD64)]"
  },
  "orig_nbformat": 4,
  "vscode": {
   "interpreter": {
    "hash": "4dd5c0b9b8a7eb0ba8de06cbf1c2be91287a89386a6fcfb82cddcf60c884a2d3"
   }
  }
 },
 "nbformat": 4,
 "nbformat_minor": 2
}
