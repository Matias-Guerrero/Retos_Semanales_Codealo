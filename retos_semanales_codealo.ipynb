{
 "cells": [
  {
   "attachments": {},
   "cell_type": "markdown",
   "metadata": {},
   "source": [
    "# Reto Semanal #1\n",
    "\n",
    "En Codealo tenemos un Array que guarda todas las veces que pasan nuestras pruebas. Esto esta asociado a nuestro sistema de pruebas automatizadas. Cuando una prueba falla intenta correrla de nuevo.\n",
    "\n",
    "Los resultados de las pruebas son guardadas en este Array. Queremos saber de la manera más rápida en que indice es que empezaron a fallar las pruebas.\n",
    "\n",
    "La data es representada de la siguiente manera:\n",
    "[ True, True, True, True, True, False, False, False, False, False, False, False ]\n",
    "\n",
    "Donde true indica que todas las pruebas pasaron y false que no es así.\n",
    "\n",
    "Para este solo tienes que devolver el index donde ocurre el PRIMER false.\n",
    "\n",
    "No olvides de elegir el lenguaje de programación en el que quieres resolver el reto."
   ]
  },
  {
   "cell_type": "code",
   "execution_count": 4,
   "metadata": {},
   "outputs": [
    {
     "name": "stdout",
     "output_type": "stream",
     "text": [
      "5\n"
     ]
    }
   ],
   "source": [
    "# No Borrar\n",
    "testResults = [ True, True, True, True, True, False, False, False, False, False, False, False ]\n",
    "\n",
    "resultado = None\n",
    "\n",
    "## Solucion Esperada: Posicion del primer False es 5\n",
    "\n",
    "# Codigo\n",
    "\n",
    "for indice in range(0, len(testResults)):\n",
    "    if testResults[indice] == False:\n",
    "        resultado = indice\n",
    "        break\n",
    "\n",
    "print(resultado)"
   ]
  },
  {
   "attachments": {},
   "cell_type": "markdown",
   "metadata": {},
   "source": [
    "# Reto Semanal #2\n",
    "\n",
    "Para el reto de hoy vamos a manejar dos Arrays separados.\n",
    "\n",
    "La meta es encontrar la multiplicación más grande entre dos elemento de el Array.\n",
    "\n",
    "Los Array no están **ordenado**.\n",
    "\n",
    "Mira este ejemplo:\n",
    "\n",
    "a1 = [ 10, 12, 1, 9, 2]  \n",
    "a2 = [ 2, 2, 4, 2, 3 ]\n",
    "\n",
    "En este caso la respuesta que buscamos es 48. La multiplicación entre al 12 del Array a1 y del 4 del Array a2 nos da el resultado más grande."
   ]
  },
  {
   "cell_type": "code",
   "execution_count": 5,
   "metadata": {},
   "outputs": [
    {
     "name": "stdout",
     "output_type": "stream",
     "text": [
      "91\n"
     ]
    }
   ],
   "source": [
    "# No Borrar\n",
    "a1 = [ 3, 1, 2, 8, 13, 9, 1, 1, 2, 3, 4, 10, 12, 11, 1, 1]\n",
    "a2 = [ 5, 7, 7, 7, 7, 2, 1, 2, 0]\n",
    "\n",
    "resultado = 0\n",
    "\n",
    "## Solucion Esperada: 13 * 7 = 91\n",
    "\n",
    "# Escribe tu algoritmo\n",
    "\n",
    "for numero1 in a1:\n",
    "    for numero2 in a2:\n",
    "        if (numero1 * numero2) > resultado:\n",
    "            resultado = numero1 * numero2\n",
    "\n",
    "print(resultado)"
   ]
  },
  {
   "attachments": {},
   "cell_type": "markdown",
   "metadata": {},
   "source": [
    "# Reto Semanal #3\n",
    "\n",
    "Cuando jugamos cartas uno de los primeros pasos es combinar y mezclar dos mazos de cartas. Podemos simular este comportamiento con dos arreglos y una funciona que los combina pero de una manera desordenada.\n",
    "\n",
    "**Para este reto no vamos a revisar que tu código devuelva un resultado esperado, vamos a revisar tu algoritmo**\n",
    "\n",
    "Para subir tu respuesta, simplemente cambia la variable de completado a verdad para guardar tu solución.\n",
    "\n",
    "## Tu función\n",
    "Tu función de Shuffle va a tomar dos arreglos como parámetros (A y B) y regresar un nuevo arreglo que contiene todos los elementos del arreglo A y B pero fuera de orden. Recuerda que estamos simulando cuando se baraja un mazo de cartas."
   ]
  },
  {
   "cell_type": "code",
   "execution_count": 6,
   "metadata": {},
   "outputs": [
    {
     "name": "stdout",
     "output_type": "stream",
     "text": [
      "[10, 9, 1, 2, 5, 7, 4, 6, 8, 3]\n",
      "True\n"
     ]
    }
   ],
   "source": [
    "import random\n",
    "\n",
    "# No borrar\n",
    "A = [1, 2, 3, 4, 5]\n",
    "B = [6, 7, 8, 9, 10]\n",
    "\n",
    "completado = False #Cambiar a true cuando este completado\n",
    "\n",
    "# Implementación\n",
    "\n",
    "def shuffle(arr1, arr2):\n",
    "    #Escribe tu codigo aqui\n",
    "    arrFinal = arr1 + arr2\n",
    "    random.shuffle(arrFinal)\n",
    "    return arrFinal\n",
    "\n",
    "C = shuffle(A, B)\n",
    "\n",
    "if C != (A + B):\n",
    "    completado = True\n",
    "\n",
    "print(C)\n",
    "print(completado)\n"
   ]
  },
  {
   "attachments": {},
   "cell_type": "markdown",
   "metadata": {},
   "source": [
    "# Reto Semanal #4\n",
    "\n",
    "El reto de esta semana es simple pero va a hacer que pienses un poco en el rendimiento de tu algoritmo.\n",
    "\n",
    "Esta semana debes de poder decir si la segunda mitad de un string es un espejo de la primera mitad. Te dejo un ejemplo.\n",
    "\n",
    "\"aabbbbaa\" // true  \n",
    "\"cabmma\" // false  \n",
    "\"mama aman\" // true  \n",
    "\n",
    "En el peor de los casos tu algoritmo debe de tener un Big O de O(n/2).\n",
    "\n",
    "Si la longitud de la palabra es impar, el valor del medio se ignora."
   ]
  },
  {
   "cell_type": "code",
   "execution_count": 7,
   "metadata": {},
   "outputs": [
    {
     "name": "stdout",
     "output_type": "stream",
     "text": [
      "True\n",
      "False\n",
      "True\n",
      "True\n",
      "True\n"
     ]
    }
   ],
   "source": [
    "e1 = \"aaabaaa\"\n",
    "e2 = \"mama mia en la pizzeria amam\"\n",
    "e3 = \"a\"\n",
    "e4 = \"bbdaadbb\"\n",
    "e5 = \"lorem ipsum dolor sit amettema tis rolod muspi merol\"\n",
    "\n",
    "def checkMirror(x):\n",
    "\n",
    "    largoCadena = len(x)\n",
    "\n",
    "    if(largoCadena % 2 == 0):\n",
    "\n",
    "        for indice in range(0, int(largoCadena / 2)):\n",
    "\n",
    "            if x[indice] != x[largoCadena - 1 - indice]:\n",
    "                return False             \n",
    "    else:\n",
    "        for indice in range(0, int(largoCadena - 1 / 2)):\n",
    "\n",
    "            if x[indice] != x[largoCadena - 1 - indice]:\n",
    "                return False  \n",
    "                \n",
    "    return True\n",
    "\n",
    "# No Tocar\n",
    "print(checkMirror(e1))\n",
    "print(checkMirror(e2))\n",
    "print(checkMirror(e3))\n",
    "print(checkMirror(e4))\n",
    "print(checkMirror(e5))"
   ]
  },
  {
   "attachments": {},
   "cell_type": "markdown",
   "metadata": {},
   "source": [
    "# Reto Semanal #5\n",
    "\n",
    "Ahora vamos a poner a prueba tu conocimiento de arboles binarios. Vamos a utilizar un par de arreglos para describir un arbol binario en el que debes de imprimir todos los elementos de raiz a nodo hoja. Debes de ir por cada nivel del arbol imprimiento el siguiente elemento.\n",
    "\n",
    "El arbol que vamos a crear se ve así:\n",
    "\n",
    "             10\n",
    "            /  \\\n",
    "           3    5\n",
    "          /      \\\n",
    "         4       -1 \n",
    "\n",
    "Esperamos que imprimas: 10, 3, 5, 4, -1\n",
    "\n",
    "Piensa que tipo de estructura de datos te ayuda con esto."
   ]
  },
  {
   "cell_type": "code",
   "execution_count": 8,
   "metadata": {},
   "outputs": [
    {
     "name": "stdout",
     "output_type": "stream",
     "text": [
      "10, 3, 5, 4, -1\n"
     ]
    }
   ],
   "source": [
    "class Node:\n",
    "    left = None\n",
    "    right = None\n",
    "    value = None\n",
    "\n",
    "    def __init__(self, v):\n",
    "        self.value = v\n",
    "\n",
    "class Tree:\n",
    "    root = None\n",
    "\n",
    "    # Termina esta funcion\n",
    "    def prettyPrint(self):\n",
    "        ramaIzquierda = self.root\n",
    "        ramaDerecha = self.root\n",
    "\n",
    "        print(self.root.value, end=\"\")\n",
    "\n",
    "        while True:\n",
    "            ramaIzquierda = ramaIzquierda.left\n",
    "            if ramaIzquierda == None: break\n",
    "            print(\",\", ramaIzquierda.value, end=\"\")\n",
    "\n",
    "            ramaDerecha = ramaDerecha.right\n",
    "            if ramaDerecha == None: break\n",
    "            print(\",\", ramaDerecha.value, end=\"\")\n",
    "\n",
    "        return \"\"\n",
    "\n",
    "\n",
    "t = Tree();\n",
    "t.root = Node(10);\n",
    "t.root.left = Node(3);\n",
    "t.root.right = Node(5);\n",
    "t.root.left.left = Node(4);\n",
    "t.root.right.right = Node(-1);\n",
    "\n",
    "print(t.prettyPrint())"
   ]
  },
  {
   "attachments": {},
   "cell_type": "markdown",
   "metadata": {},
   "source": [
    "# Reto Semanal #6\n",
    "\n",
    "Las listas enlazadas son usadas bastante en las bases de datos, algo que usualmente no sabemos ya que utilizamos APIs para poder interactuar entre ellas.\n",
    "\n",
    "En este reto vamos a hacer borrar un elemento de una lista doblemente enlazada. Vamos a crear la estructura de datos simple para que funcione nuestro código."
   ]
  },
  {
   "cell_type": "code",
   "execution_count": 9,
   "metadata": {},
   "outputs": [
    {
     "name": "stdout",
     "output_type": "stream",
     "text": [
      "10 <-> 2 <-> 3 <-> -10 <-> 2\n"
     ]
    }
   ],
   "source": [
    "class Node:\n",
    "    prev = None\n",
    "    next = None\n",
    "    value = None\n",
    "\n",
    "    def __init__(self, v):\n",
    "        self.value = v\n",
    "\n",
    "    def __repr__(self):\n",
    "        prev = self.prev.value if self.prev else None\n",
    "        next = self.next.value if self.next else None\n",
    "        return f\"\"\"<Node(prev={prev}, next={next}, value={self.value})>\"\"\"\n",
    "\n",
    "class LinkedList:\n",
    "    root = None\n",
    "\n",
    "    def add(self, x):\n",
    "        if not self.root:\n",
    "            self.root = Node(x)\n",
    "            return\n",
    "\n",
    "        cur = self.root\n",
    "        while(cur.next is not None):\n",
    "            cur = cur.next\n",
    "        \n",
    "        toAdd = Node(x)\n",
    "        toAdd.prev = cur\n",
    "        cur.next = toAdd\n",
    "\n",
    "    # Implementar esta funcion\n",
    "    def remove(self, idx):\n",
    "        return None\n",
    "    \n",
    "    def print(self):\n",
    "        l = []\n",
    "        cur = self.root\n",
    "        while(cur is not None):\n",
    "            l.append(str(cur.value))\n",
    "            cur = cur.next\n",
    "        print(str.join(\" <-> \", l))\n",
    "\n",
    "ll = LinkedList()\n",
    "ll.add(10)\n",
    "ll.add(2)\n",
    "ll.add(3)\n",
    "ll.add(-10)\n",
    "ll.add(2)\n",
    "\n",
    "ll.remove(2)\n",
    "ll.print()"
   ]
  },
  {
   "attachments": {},
   "cell_type": "markdown",
   "metadata": {},
   "source": [
    "# Reto Semanal #7\n",
    "\n",
    "Juguemos a la recursividad con el reto que todos probablemente hemos hecho. Has la secuencia de fibonacci!\n",
    "\n",
    "**Recuerda que tienes que hacerlo usando recursividad**"
   ]
  },
  {
   "cell_type": "code",
   "execution_count": 10,
   "metadata": {},
   "outputs": [
    {
     "name": "stdout",
     "output_type": "stream",
     "text": [
      "89\n",
      "1\n",
      "1\n"
     ]
    }
   ],
   "source": [
    "def fibonacci(numero):\n",
    "    if numero == 1 or numero == 2:\n",
    "        return 1\n",
    "\n",
    "    return fibonacci(numero - 2) + fibonacci(numero - 1)\n",
    "\n",
    "print(fibonacci(11))\n",
    "print(fibonacci(2))\n",
    "print(fibonacci(1))"
   ]
  },
  {
   "attachments": {},
   "cell_type": "markdown",
   "metadata": {},
   "source": [
    "# Reto Semanal #8\n",
    "\n",
    "Alguna vez te has preguntado como es que podemos encontrar, de la manera más rápida, si existe una secuencia de caracteres dentro de un String...\n",
    "\n",
    "Hoy te toca programar un algoritmo que haga exactamente eso. La idea es hacerlo lo más eficiente posible. Piensa en la manera que puedes utilizar tus conocimientos para poder rapidamente responder la pregunta.\n",
    "\n",
    "Se llama un algoritmo de búsqueda de subcadenas: https://es.wikipedia.org/wiki/Algoritmos_de_b%C3%BAsqueda_de_subcadenas\n",
    "\n",
    "Debes de regresar si la subcadena existe dentro del string."
   ]
  },
  {
   "cell_type": "code",
   "execution_count": 12,
   "metadata": {},
   "outputs": [
    {
     "name": "stdout",
     "output_type": "stream",
     "text": [
      "True\n",
      "True\n",
      "False\n",
      "True\n"
     ]
    }
   ],
   "source": [
    "text = \"abbsbsbbasbbbsadsbbbbdasbbbbdsaallkkklll\";\n",
    "\n",
    "def inString(substring):\n",
    "    # Implementa tu algoritmo aquí\n",
    "\n",
    "    if text.find(substring) != -1:\n",
    "        return True\n",
    "\n",
    "    return False;\n",
    "\n",
    "print(inString(\"a\"))\n",
    "print(inString(\"llkkkll\"))\n",
    "print(inString(\"sadz\"))\n",
    "print(inString(\"bbb\"))"
   ]
  },
  {
   "cell_type": "code",
   "execution_count": 13,
   "metadata": {},
   "outputs": [
    {
     "name": "stdout",
     "output_type": "stream",
     "text": [
      "True\n",
      "True\n",
      "False\n",
      "True\n"
     ]
    }
   ],
   "source": [
    "text = \"abbsbsbbasbbbsadsbbbbdasbbbbdsaallkkklll\";\n",
    "\n",
    "def inString(substring):\n",
    "    # Implementa tu algoritmo aquí\n",
    "\n",
    "    if substring in text:\n",
    "        return True\n",
    "\n",
    "    return False;\n",
    "\n",
    "print(inString(\"a\"))\n",
    "print(inString(\"llkkkll\"))\n",
    "print(inString(\"sadz\"))\n",
    "print(inString(\"bbb\"))"
   ]
  },
  {
   "attachments": {},
   "cell_type": "markdown",
   "metadata": {},
   "source": [
    "# Reto Semanal #9\n",
    "\n",
    "Operaciones de Bit es algo que usualmente se enseña en la universidad. Si eres un programador autodidacta hay poca documentación o cursos que hacen uso de estos operadores. Sin embargo, son fundamentales en lenguajes de programación de bajo nivel como C.\n",
    "\n",
    "También se usan en lo videojuegos por su eficiencia al momento de ser usados.\n",
    "\n",
    "Hoy quiero que utilices el operador bit de & para determinar si un número es **par** o **impar**."
   ]
  },
  {
   "cell_type": "code",
   "execution_count": 14,
   "metadata": {},
   "outputs": [
    {
     "name": "stdout",
     "output_type": "stream",
     "text": [
      "True\n",
      "False\n",
      "False\n",
      "True\n",
      "True\n"
     ]
    }
   ],
   "source": [
    "def par(x):\n",
    "\n",
    "    if x & 1 == 0:\n",
    "        return True\n",
    "\n",
    "    return False\n",
    "\n",
    "def impar(x):\n",
    "\n",
    "    if x & 1 != 0:\n",
    "        return True\n",
    "        \n",
    "    return False\n",
    "\n",
    "print(par(2))\n",
    "print(impar(10))\n",
    "print(par(3))\n",
    "print(impar(-9))\n",
    "print(par(-232))"
   ]
  },
  {
   "attachments": {},
   "cell_type": "markdown",
   "metadata": {},
   "source": [
    "# Reto Semanal #10\n",
    "\n",
    "En el reto de hoy queremos generar un Array que solo tenga elementos distintos. Es decir, crear un Set basado en un Array que tiene varios elementos repetidos.\n",
    "\n",
    "Hoy en día todos los lenguajes tienen una estructura de dato que hace esto por tí, pero para este reto piensa como puedes combinar un par de estructura de datos para solucionar el reto."
   ]
  },
  {
   "cell_type": "code",
   "execution_count": 15,
   "metadata": {},
   "outputs": [
    {
     "name": "stdout",
     "output_type": "stream",
     "text": [
      "[0, 10, 9, 2, 1, 3, 4, 6]\n"
     ]
    }
   ],
   "source": [
    "myArray = [0,0,10,9,2,0,9,9,2,1,3,4,6]\n",
    "\n",
    "# Implementa esta función\n",
    "def getDistinct(array):\n",
    "    newArray = []\n",
    "\n",
    "    for numero in array:\n",
    "        if numero not in newArray:\n",
    "            newArray.append(numero)\n",
    "\n",
    "    return newArray\n",
    "\n",
    "print(getDistinct(myArray))"
   ]
  }
 ],
 "metadata": {
  "kernelspec": {
   "display_name": "Python 3",
   "language": "python",
   "name": "python3"
  },
  "language_info": {
   "codemirror_mode": {
    "name": "ipython",
    "version": 3
   },
   "file_extension": ".py",
   "mimetype": "text/x-python",
   "name": "python",
   "nbconvert_exporter": "python",
   "pygments_lexer": "ipython3",
   "version": "3.11.1"
  },
  "orig_nbformat": 4,
  "vscode": {
   "interpreter": {
    "hash": "4dd5c0b9b8a7eb0ba8de06cbf1c2be91287a89386a6fcfb82cddcf60c884a2d3"
   }
  }
 },
 "nbformat": 4,
 "nbformat_minor": 2
}
