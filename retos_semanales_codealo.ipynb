{
 "cells": [
  {
   "attachments": {},
   "cell_type": "markdown",
   "metadata": {},
   "source": [
    "# Reto Semanal #1\n",
    "\n",
    "En Codealo tenemos un Array que guarda todas las veces que pasan nuestras pruebas. Esto esta asociado a nuestro sistema de pruebas automatizadas. Cuando una prueba falla intenta correrla de nuevo.\n",
    "\n",
    "Los resultados de las pruebas son guardadas en este Array. Queremos saber de la manera más rápida en que indice es que empezaron a fallar las pruebas.\n",
    "\n",
    "La data es representada de la siguiente manera:\n",
    "[ True, True, True, True, True, False, False, False, False, False, False, False ]\n",
    "\n",
    "Donde true indica que todas las pruebas pasaron y false que no es así.\n",
    "\n",
    "Para este solo tienes que devolver el index donde ocurre el PRIMER false.\n",
    "\n",
    "No olvides de elegir el lenguaje de programación en el que quieres resolver el reto."
   ]
  },
  {
   "cell_type": "code",
   "execution_count": 4,
   "metadata": {},
   "outputs": [
    {
     "name": "stdout",
     "output_type": "stream",
     "text": [
      "5\n"
     ]
    }
   ],
   "source": [
    "# No Borrar\n",
    "testResults = [ True, True, True, True, True, False, False, False, False, False, False, False ]\n",
    "\n",
    "resultado = None\n",
    "\n",
    "## Solucion Esperada: Posicion del primer False es 5\n",
    "\n",
    "# Codigo\n",
    "\n",
    "for indice in range(0, len(testResults)):\n",
    "    if testResults[indice] == False:\n",
    "        resultado = indice\n",
    "        break\n",
    "\n",
    "print(resultado)"
   ]
  },
  {
   "attachments": {},
   "cell_type": "markdown",
   "metadata": {},
   "source": [
    "# Reto Semanal #2\n",
    "\n",
    "Para el reto de hoy vamos a manejar dos Arrays separados.\n",
    "\n",
    "La meta es encontrar la multiplicación más grande entre dos elemento de el Array.\n",
    "\n",
    "Los Array no están **ordenado**.\n",
    "\n",
    "Mira este ejemplo:\n",
    "\n",
    "a1 = [ 10, 12, 1, 9, 2]  \n",
    "a2 = [ 2, 2, 4, 2, 3 ]\n",
    "\n",
    "En este caso la respuesta que buscamos es 48. La multiplicación entre al 12 del Array a1 y del 4 del Array a2 nos da el resultado más grande."
   ]
  },
  {
   "cell_type": "code",
   "execution_count": 5,
   "metadata": {},
   "outputs": [
    {
     "name": "stdout",
     "output_type": "stream",
     "text": [
      "91\n"
     ]
    }
   ],
   "source": [
    "# No Borrar\n",
    "a1 = [ 3, 1, 2, 8, 13, 9, 1, 1, 2, 3, 4, 10, 12, 11, 1, 1]\n",
    "a2 = [ 5, 7, 7, 7, 7, 2, 1, 2, 0]\n",
    "\n",
    "resultado = 0\n",
    "\n",
    "## Solucion Esperada: 13 * 7 = 91\n",
    "\n",
    "# Escribe tu algoritmo\n",
    "\n",
    "for numero1 in a1:\n",
    "    for numero2 in a2:\n",
    "        if (numero1 * numero2) > resultado:\n",
    "            resultado = numero1 * numero2\n",
    "\n",
    "print(resultado)"
   ]
  },
  {
   "attachments": {},
   "cell_type": "markdown",
   "metadata": {},
   "source": [
    "# Reto Semanal #3\n",
    "\n",
    "Cuando jugamos cartas uno de los primeros pasos es combinar y mezclar dos mazos de cartas. Podemos simular este comportamiento con dos arreglos y una funciona que los combina pero de una manera desordenada.\n",
    "\n",
    "**Para este reto no vamos a revisar que tu código devuelva un resultado esperado, vamos a revisar tu algoritmo**\n",
    "\n",
    "Para subir tu respuesta, simplemente cambia la variable de completado a verdad para guardar tu solución.\n",
    "\n",
    "## Tu función\n",
    "Tu función de Shuffle va a tomar dos arreglos como parámetros (A y B) y regresar un nuevo arreglo que contiene todos los elementos del arreglo A y B pero fuera de orden. Recuerda que estamos simulando cuando se baraja un mazo de cartas."
   ]
  },
  {
   "cell_type": "code",
   "execution_count": 6,
   "metadata": {},
   "outputs": [
    {
     "name": "stdout",
     "output_type": "stream",
     "text": [
      "[10, 9, 1, 2, 5, 7, 4, 6, 8, 3]\n",
      "True\n"
     ]
    }
   ],
   "source": [
    "import random\n",
    "\n",
    "# No borrar\n",
    "A = [1, 2, 3, 4, 5]\n",
    "B = [6, 7, 8, 9, 10]\n",
    "\n",
    "completado = False #Cambiar a true cuando este completado\n",
    "\n",
    "# Implementación\n",
    "\n",
    "def shuffle(arr1, arr2):\n",
    "    #Escribe tu codigo aqui\n",
    "    arrFinal = arr1 + arr2\n",
    "    random.shuffle(arrFinal)\n",
    "    return arrFinal\n",
    "\n",
    "C = shuffle(A, B)\n",
    "\n",
    "if C != (A + B):\n",
    "    completado = True\n",
    "\n",
    "print(C)\n",
    "print(completado)\n"
   ]
  }
 ],
 "metadata": {
  "kernelspec": {
   "display_name": "Python 3",
   "language": "python",
   "name": "python3"
  },
  "language_info": {
   "codemirror_mode": {
    "name": "ipython",
    "version": 3
   },
   "file_extension": ".py",
   "mimetype": "text/x-python",
   "name": "python",
   "nbconvert_exporter": "python",
   "pygments_lexer": "ipython3",
   "version": "3.11.1"
  },
  "orig_nbformat": 4,
  "vscode": {
   "interpreter": {
    "hash": "4dd5c0b9b8a7eb0ba8de06cbf1c2be91287a89386a6fcfb82cddcf60c884a2d3"
   }
  }
 },
 "nbformat": 4,
 "nbformat_minor": 2
}
